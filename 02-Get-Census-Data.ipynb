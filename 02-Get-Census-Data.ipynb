{
 "cells": [
  {
   "cell_type": "markdown",
   "metadata": {},
   "source": [
    "# Grab a selection of census tract data\n",
    "*This notebook provides an example of how you can extract features from an ArcGIS online resource and save them into a shapefile on your local machine.* \n",
    "\n",
    "→ A good resource for learning more is here: https://developers.arcgis.com/python/guide/working-with-feature-layers-and-features/"
   ]
  },
  {
   "cell_type": "code",
   "execution_count": 1,
   "metadata": {},
   "outputs": [],
   "source": [
    "#Import the GIS object and authenticate\n",
    "from arcgis import GIS\n",
    "gis = GIS('pro')"
   ]
  },
  {
   "cell_type": "code",
   "execution_count": 2,
   "metadata": {},
   "outputs": [
    {
     "data": {
      "text/plain": [
       "[<Item title:\"USA Block Groups\" type:Feature Layer Collection owner:esri_dm>,\n",
       " <Item title:\"California Census Tract Boundaries\" type:Feature Layer Collection owner:Ferrar@FracTracker.org>,\n",
       " <Item title:\"CDC’s Social Vulnerability Index (SVI) – 2014 overall SVI, census tract level\" type:Feature Layer Collection owner:data_cdc>,\n",
       " <Item title:\"USA Tracts\" type:Feature Layer Collection owner:esri_dm>,\n",
       " <Item title:\"USA Counties\" type:Feature Layer Collection owner:esri_dm>,\n",
       " <Item title:\"LA County Supervisorial District\" type:Feature Layer Collection owner:lacounty_isd>,\n",
       " <Item title:\"USA Census Tracts\" type:Feature Layer Collection owner:sfoss_startups>,\n",
       " <Item title:\"Dissemination Areas\" type:Feature Layer Collection owner:cmxadmin>,\n",
       " <Item title:\"CRA 2015A Census Tracts\" type:Feature Layer Collection owner:rpminfonet>,\n",
       " <Item title:\"CDC’s Social Vulnerability Index (SVI) – 2014 socioeconomic SVI, county level\" type:Feature Layer Collection owner:data_cdc>]"
      ]
     },
     "execution_count": 2,
     "metadata": {},
     "output_type": "execute_result"
    }
   ],
   "source": [
    "#Use the API's content helper to search for feature layers with keyword Census\n",
    "results = gis.content.search(query='census  tract',item_type='Feature Layer',outside_org=True)\n",
    "results"
   ]
  },
  {
   "cell_type": "code",
   "execution_count": 3,
   "metadata": {},
   "outputs": [
    {
     "data": {
      "text/html": [
       "<div class=\"item_container\" style=\"height: auto; overflow: hidden; border: 1px solid #cfcfcf; border-radius: 2px; background: #f6fafa; line-height: 1.21429em; padding: 10px;\">\n",
       "                    <div class=\"item_left\" style=\"width: 210px; float: left;\">\n",
       "                       <a href='https://www.arcgis.com//home/item.html?id=a3191eb75f9940ada2a0fdd420f57b13' target='_blank'>\n",
       "                        <img src='data:image/png;base64,/9j/4AAQSkZJRgABAQEAdwB3AAD/2wBDAAMCAgMCAgMDAwMEAwMEBQgFBQQEBQoHBwYIDAoMDAsKCwsNDhIQDQ4RDgsLEBYQERMUFRUVDA8XGBYUGBIUFRT/2wBDAQMEBAUEBQkFBQkUDQsNFBQUFBQUFBQUFBQUFBQUFBQUFBQUFBQUFBQUFBQUFBQUFBQUFBQUFBQUFBQUFBQUFBT/wAARCACFAMgDASEAAhEBAxEB/8QAHwAAAQUBAQEBAQEAAAAAAAAAAAECAwQFBgcICQoL/8QAtRAAAgEDAwIEAwUFBAQAAAF9AQIDAAQRBRIhMUEGE1FhByJxFDKBkaEII0KxwRVS0fAkM2JyggkKFhcYGRolJicoKSo0NTY3ODk6Q0RFRkdISUpTVFVWV1hZWmNkZWZnaGlqc3R1dnd4eXqDhIWGh4iJipKTlJWWl5iZmqKjpKWmp6ipqrKztLW2t7i5usLDxMXGx8jJytLT1NXW19jZ2uHi4+Tl5ufo6erx8vP09fb3+Pn6/8QAHwEAAwEBAQEBAQEBAQAAAAAAAAECAwQFBgcICQoL/8QAtREAAgECBAQDBAcFBAQAAQJ3AAECAxEEBSExBhJBUQdhcRMiMoEIFEKRobHBCSMzUvAVYnLRChYkNOEl8RcYGRomJygpKjU2Nzg5OkNERUZHSElKU1RVVldYWVpjZGVmZ2hpanN0dXZ3eHl6goOEhYaHiImKkpOUlZaXmJmaoqOkpaanqKmqsrO0tba3uLm6wsPExcbHyMnK0tPU1dbX2Nna4uPk5ebn6Onq8vP09fb3+Pn6/9oADAMBAAIRAxEAPwD9H5NOtmuLtDAhBgUgEZx98UJo9pc6XGggjDPCuG298DBr4flR55FeW1pPpSziyhZi0ZKeWuc7wCOffIoudOieCVho9qqhGyHRNx4/hxkfnSsuwyK20lVhtZl0+0dWQboPLjG0bRg7scn17c1a0nT7UW7MbK3jfzpMqI1OPnPGcU0lfYCPRLaExnMSHdDCcFB/dP8AhUk86aU6RTxebakMyMF3GMAj5SPTnAPbv60loriCOPy7K0/d+Xuut4XAHBdiOnsRS3C7rfWBjjH/ALTWnbQZaA/4mqHB+aA/+hD/ABqrbLi20rr8rFR/3wwp/wBfkBXvBdeTqQj8nZ54GHDbs4T0qeO9vZZYVJt1DyyRN8jZBXOO/OQP1pa3A47xXp0ljq7u+0rcDzAyLtGejDGT7H8axq+xwcuahB/1podkHeKCiuwsKKACigAooAKKAPSTZSC/mxeXHNuO6f3m/wBmnaZaM+m2h+1XHMKHhgMfKPavgra7nARmwjimnimurgQsPPBaXAGD83PscH8aWSexaNh/aLng/wDLwaNFuwF0m2gutPt2iuZ5AI1DbZ24O0cdfeoYrRVtGZJ7gEXRU4nboZcEHn0NK2l0wJF02KGe8SNplCwJt/fPwfnx3q3p9pGkcE/zvKYh88kjMeQCepppWEVXsbSznImRhbsfMRi7bY2zyODgDnI/GprvSrRrS5/dD542JO48/L160WQyv/Z1rHd2Ltb/ACSxmPIY8McMM8+imq40yzWzsN0CsPtOzBJI6uPWlyrt/WgEzaTYeVqAaGGILICH2fcOxSD+dfLHjb4+eJdH8Y6zY2FtpltaWt3JFHHPYh3XBwck85zmvo8jyyhmNeVOteyV9PVI83H4mWFpqcEm27anN33x/wDGGoSI8k1hGyDaPKs1XI9+arf8Lw8W/wDP1a/+Aq1+iUsjw1GChBuy9P8AI8ZZ3iIqyivx/wAw/wCF4eLf+fq1/wDAVaP+F4eLf+fq1/8AAVa2/sih/M/w/wAiv7dxP8sfx/zD/heHi3/n6tf/AAFWj/heHi3/AJ+rX/wFWj+yKH8z/D/IP7dxP8sfx/zD/heHi3/n6tf/AAFWj/heHi3/AJ+rX/wFWj+yKH8z/D/IP7dxP8sfx/zA/HHxaAf9Ktf/AAGWus1Hx14jtr/TbS08QQ3L3U7W8jz6ObdYmAB3AlzvTnlhjAGaynldGDWr69V/kbU85xE09Etuj6/M7T4eeINT1htYtNVuLa8nsJ0jF1aLtjlDIGyvqvPDdxg0V85WgqdRxjsfVYepKrSjOW77HvQW+Oq8vbLmDsjH+L6iq+m3d0mnWw2MQsYGVtWPb/fr861TMCLUrqa5slmDOqkfK5tSAQ428ndwOc/gK02+0ou06hBwMZMX/wBlTTd9wM2ysXufKVpISfs0T7xE2TwR2f2qOCzuLewvI0uV2Je5AMWcZdT6+9RbrcC7LDdLc3zfaxkQKeIRg/fpYEu4lsIVvBtePqYRkYUe9XZ9wFLXf2YObs7vP8ptsSgY8zb79qYLdrKCS3nu51gw211jXbsOeCQvGM4o16sC2NNDyQy/aZWaNSEbCcA46fL7Cs4WDPaW3+lXGBeE4yvH7xufu0W8wH3Fi3laqDdXBPDD5gM/IPQe1ec6p8Efhzdxy694jS6judQvnR7hryUCSZ5mRFwvQk4A96+gyXEVMLWnKm9WrfiZTwtLFrkqq6WpUuPgl8FbSxlvZtQt0tIkEjzf27lVUgkHhuhAJ/A+lSXnwJ+DmnXFrBczGGW6jklgVtWf94kYJkYHOMKFOfofSvsP7WxS+0vuRj/Y2E/lf3sqj4N/BRoVm+1OIWSGUStqMwTZN/qX3Hja+CA3QnjOeKl0X4JfBjxHeLaaXcNf3TRmYQw6nKW2A4Jx2wcZHXkHGDR/a2LfVfchf2Pg/wCV/ezd/wCGV/h1/wBA2+/8GEn+NH/DK/w6/wCgbff+DCT/ABo/tbFd19yD+xsH/K/vYf8ADK/w6/6Bt9/4MJP8aP8Ahlf4df8AQNvv/BhJ/jR/a2K7r7kH9jYP+V/ew/4ZX+HX/QNvv/BhJ/jSf8MrfDk/8w29/wDA+T/Gj+1sX/MvuQf2Ng/5X97Mo/D3RPhvrd5p2gwS29rNBFO6yzNKS5LjOT7AcUVwTqSqyc57s9alSjRgqcNkeuK4fU4ypDAwNyOf4l/xqnY3N0NLgEVkxYRAKzSIATjg9a/P+uhyiGG4m0wWUtixTywjHzkJOMc+nb0pNPLSxEHTIWeN2jcgxjJBx0xx2pa31QEWkT3O6LFoADax4zKMYy3tSSSXaWN+fs0f/HwWP74+qn+7Uq9tgLZe7fUZ1a1iIaFAVMxxjc/+zUW2+gurNTDEyAsiZmOQNp4Py9sdarXsAy4lubdZYJEh8x5BOm2Qn/lqvB49+tadtPNJPNFLGiPGFOUYsCDn1A9KFe4GZc6zDoMrWxR540XegiG5kGTlSBk4Hr6fSpLSK5urGF45bby2k89GXL5G8sOQQD1pXu7IBk6XjHVB5tv/AKsE/u2/uH/aqKz09tW8J2kT2drqJF0Z/LnmaJA6Ts6uCqschgCBXsZbf2kr9v1NqO7OeT4PaLE7vH4K0aJ3t1tGaPUrhSYRH5Yj4j+7s4x34zzzWlqfgODW5bWXUfC2k6g9rG8cRutRmkwrklgcxHdkseucZ4r6Hc6Sknws06JEjHhTTBEjQERHVrkp+5jMcI2mPBVEJAU8ck4zzVzQPAVv4W1AX2leF9Js7wRtH5y6lMzEMQWJ3RHJOACx5wAM4GKdx3OjFxrxOBpunk/9f8n/AMZo+067/wBA7T//AAPf/wCM0hB9p13/AKB2n/8Age//AMZo+067/wBA7T//AAPf/wCM0AH2nXf+gdp//ge//wAZo+067/0DtP8A/A9//jNAHDeNS7eK2MqqkpsYNyo24A7pMgHAyPfAorRbAdakOn3mrJ5ccZxAxYqhQ/eXvxTNLMC6fbgSXinYMhRIR07cfyr4LS90cAmpPEllO6vqIdUJBBlABqVILWN2ZU1EM2MnM2TjpRpfqBn6V5LGEgX5C2yq23zeDnOPyp0kMM0N+qW99K5mGP8AWZPCepqdLdQJoorcanLttL4AxIcbnz95v9qoIWiePSzJb3zyPkncznd8jf7VPTswEn+zuZI7bTZ3Jfc+6Ib02su4qxOTx29+KsLBbtPNNHps8kMkS7X4IyN3q3uKNG9gNDRJkawgRImgcRIxVgAWyPvcdar2d/KonjttOllhjmeNSHjQDB5GCc9c9umK66NKNROUpKKXe/5K5wYrFToOMadJ1JSvonFaLdtyaXy3+5jJri+jW+lbTDskj73CZACnNRaNaw3/AIFgjnkWxhYs5fIxHiViPQf0+tezgqMIScoT5vk1+ZeBxVarVlTr0XTaV170ZX1/u7CL4ITbEya3eLHFEY49jgBcgjdnPLYbr/8AWw/UvClhfwtPPqUgX92rzl1OdilMZOQCSefevVPaLuixabpTXKW+oxSrNIpEZmVihxgDOSST7+natqmMy/FFnBqPh+9tbm9XToZVCm6cgCM7gQeSBnIHfvRocem2i3ENjc280k1xLcSCF0yXLDf8q9NuVX8s8mgDUooAKKAPMvHf/I4S/wDXlD/6FJRWi2A7S3dri9mmeSMJGWgVB16gkk59vSpNNmQ6daneo/dL1PtXwh54zVriL+zLoebHnyz/ABCrX2qDd/r4uv8AfFO6uMxdK1GC1EQkkj2TJGocSrhSFPBGcjpWjpsqTNePG6uhnOGU5H3VqYtMQ2bz/wC1QIPK5g58zP8Ae46Vn29/bLFo2+4iDICGAccHyyKG7PX+thjrbVbKO/lY3MQTfLli3Az5Z6/nU8up2cbu1vdROxGXgDfe9x6H9D+tLmXcCPSryG4j0hUfLiEhhtI/gH9RVrRSDDdA8Si6m8xe6ksSP/Hdp+hrpp60ZW8v6++xwVXbE0r7Wl9/u6fdd/Jlq8G60nUnarIys3XaCOTjvgc1Uit9NsfDNsv2l5LGIo6XMWWbdvyrDaD/ABH09jXs5d8EvU7qUYe35r+9a1vK+5lXGleFFPnzXqsC6ykG4JDkk7SV7jJP50JbeFtH860aYqgZYWjfeQGjffjIHXcRk9wBzxXrbHeX9N8O6JdRC6sw8gM/m+eHIYsD0BIyF+mM10VMDJ8UWunXeiXC6rI0NgpV5JEJBTBGDkA9zjp3rnbOfwr4d1We6W9uobu3+0ecsySEAN5e/I2dAIVx7Ix5wTQtCtTbn8caDaySJNqkMTRxySsGDDCxttc9Ox49+2adc+M9Hs3ZZ7p4mDtFhreUHeuMqPl5OGBx3Bz05oEXtK1my1y3aewuFuoVfYXQEDOAeMjkEEEEcEEEZq5QB5l47/5HCX/ryh/9CkorRbAdlp+n2pNxm1gP+kP/AMs19vam6RY2h063YW0OduM+WueDj0r4NJdjgHavaQDS7wiCIERMc7B6VcFnASP9Hi/79iqSV9gMzR7ceahU7Vjt0UoFG1sluvuMcfjViU3Fh9pkSGORHkDDLlTyFXGMeoqUtLoQ+Dz/AO1z5yRr+448tif4vcCqWnXHmxaenlSJ5Mmzcy4Vjsf7p79KNRkkqlbPVevNxn9Eq9kjVXxnJgB/Jj/jTV7gUbCTbZ6NubGU7n/pmaluLZkupLm0u4oJZFCyLMu9H2/dPBBBGcZB6duK3oVIwb51dPR62fR6P1SOLFUZ1oJ0pcs4u6bV1ezWqurpptbp63WqIm1yE27x3SPayEGMuRuh3EYGJBxg9s461Q8OX1vp/wAPtOlvY2uImIQoiAlmMp28ZHfFe/g6Lpxk07xezXX/ACfdbo5sDi44nFcsouM1F80WrNarbvHe0lo7adRRqXhCW65jhWVlCF2ideB0Ge3Azj2HtTF8V+FrqeCZolab/j4DNDnyyxX5j23E49Tx2r0D6Q1dN13SRbyDTlJQSjcqqVyzZy2Wxn7jZOf4aS18ZafdsoQTKWZVG8KBkqSOd3T5Tz06duaYyPVdc0u+8L39zfW0k2nKi+dA5VTIrYIx8wBzkYGcnoM5GcjUNS8JXmp3Nncad9puYnFo5EZAYyK8pUHcN2SGBP8AeYjoTQNGhpnhzwx4m02HUxottNFexu5W6j3nDnLhlJIBznI7HOKuf8IPoGSTpcRJ35y7n7z72/i7sAaYtzS03SrPR4GhsbaO0iZzIUiGAWPU/oBjoAABVqkB5l47/wCRwl/68of/AEKSitFsB2FhYYa5BuLk/v2/5akeh7VNo6eVp0cfPyM68nJ4dhXwiRwDtWXdpV6PWB//AEE0iaZb7F4k6D/ls/8AjRa7EVp9Jtrd7byleMNKEYLM/K4bA6+pq22l2zrtaMsPRpGP9aXKgK9xosLTLNFGhcKVKSM2GGc9c8H86rPY2U0enyR2wRGnwV3Hj5XBHB9aXKuwxtxpdqLTUh5KHEgYZ5x8qHvVr+y7P+1iPssWPI6bB/eoUVfYCrb6daiDSP8ARoSNxUkxjn5G/wAKtWel2gnvc2sBHncAxLgDYvTihRXb+rCGSaZE95dwRxRRRzW8eVCDaSHbqO/ao9JvH0vwtbyQWL3EguHjS2RskEzMOuD09f5V7OW3U5Lp/wAE2pRjzOVtbbkcfifTZbm7DaRLHJFbvLK0kCcou5iD9SD14z71NY+IbTULnyY9GnRvLMpeWBFTAXPXvngA96986htj4ls9SWS3bTWjmS3NwIXjG19vIVeOfY4x1xnvY0HU4dZE8cukNp0kRXENxEuSMdRxjjOPx96YiTxJc2+g+Hr67GktqSRL5v2G2t/MaVhjGFAPTA5wcY9qxZPFGlpqJsrfSrS4txNFCs6L8oZo5GBI8v8Ah2kZGeH65ytBRr6PrE91JYW401LRGtTJMiOcWrDbtjxsAOQw7gjB44rbpkoKKQzzLx3/AMjhL/15Q/8AoUlFaLYDtobS5hMpF0hMj7zmHocAf3vaqMRv4YSUuodpumjIa3JPMhGfve9fB2fc4B14l9JHfQteJtWDd8sABOQ3HU+lTgXYnt4xeDbJGzE+SO23396WvcCSWxuZvL3Xv3HDjEK9RSW6XLzXCSXjHy2AUrGo4Kg+h75qte4E32WY/wDL7KP+AJ/hWfp+nyXEMchvZPs+8yxxoiAg5PJOPc8DilZ33AfqGm7bK9cXVzl0LEblAyF69PQVZ/soNOJTd3RcjbkSAcZz2FNR13Ar6bpySWFsWmuCUJZf3p4OSP5E1aXTo1Z2EtwC5yx85uTjH8gKEtAIVsQupfLPcDMPP70nPze+f0qbwuuzRYlyWxJMMsck/vX616+Wr35ehvS3ZrEk9TmgsT1Jr6A6ALE9zRkkdaAAHBpQ7AYDEAcYBoAQknvSUAFFAHmXjv8A5HCX/ryh/wDQpKK0WwHawX1xcRLItl8pz1mXPXFUfMuvsxxaoMXuTmb/AKaZ9Pevg7vscBJNLdma/H2WPJt1H+v/AN//AGaSJ7ua407iO3zAxDZ8zPCcEYGPzpa/16gRzz6pPGjBoI4vtAjHlMysw37Tng4/Cmzx3ca35jyksce4v9qY5O04429sUveAutaeZcwxme42SQsSPOYc5Xng+5qvbz38FhaBVtSCRCN27PGRn9KrVbAOuXvrrRZpGa2USW7MVCMSMrnGc1ci0y3KIcScgf8ALZ/8aErvUCtpKXP9nwhJYVjG4KGjYkAMep3c1cMd2elxCP8Atif/AIqhXsIqiK7/ALVH+lR/6j/nj/tf71Zf9p/YtFhsl1GG01Bbp/M8yUQsE81mJAIIORjj0PXivYy2UY1Hzs1h1sUZNf15k41/QYDjJc/Njk+30/DHfJOhb6/dpq6NNrWlvpzFTIgYbl/dqGC8Z++GPJ6EfSvo3Vw/R/iNe16tEPiLxS4vQ2leINIhVYseXdXAAD85yuMnOVxyAMHIOaz5/El8bO2EfirR/tirL5jtcIImYvlMqFyRsyvBBB5JNXF02k7Daqtuz06BP4p1Ri6L4p0EIChR45EVjjaWByCOfnHA7ilPivVhC+PE3hzzQuFXzAQTjrk9O2OvU5zxVXo9mK1fujq18Z6DtG7W9P3Y5xcL1/Ol/wCEz0D/AKDVh/4EL/jXOdQf8JnoH/QasP8AwIX/ABo/4TPQP+g1Yf8AgQv+NAHBeLNRtdV8TzXFlcR3UAtYo/Nibcu4M5Iz9CPzorRbAd1YXsaWwUpMCGbjyX6bjjt6VVF6kjXawrLI/wBpRhEEO4Y2Fjg9Oh64r4O+h55Y+1H7RdOba5AaJVx5R6jdn27iq+nXLSf2MrQyxkQEFnXAPyDv+FK/9fMaEe82W+zyJ32XuNyx5B/fdjUs9zKDfN9hudkkQAbCjkBs/wAX0p38gH2ty015YZgliH2d+ZAMH7noTVSaGeKyidLiU4vMCJVTvKw4JHv3NLX+vkBbglkl0tY4bSUxtDtRpJEyRtwM81ZimuY4o1NmSyqAf3q+lUm+wFPTYttoDJdyQHzJMx+YmF+duOlIC0yaiY72Z/J4RkkBA/dg9h6mp6LUC1DYxShJ1uLhyyDD+aeVPNR6hZiC2a4R5pJYD5qB5WIJHUH8Mj8adtAG6vc3K6XdFrVcCM8rKD/SrCajIrOs9pNEwPHlqZFI9cgfpR12A8/8SMJNevWCMoZlOHXB+4vas3A9B+VfaYX+BD0R2x+FBgeg/KjA9B+VdJQYHoPyowPQflQAYHoPyowPQflQAUUAesm6h7zR/wDfYrNtphJPer9tihi888RldzfKvc/0FfBt+ZwDkmeCFovt9mw+YK8rlmwScZ+btVeORnSyVry0gW3H34pg7N8m3oRj3qb+YEv+irEyHVfkMnmE5T727d6etRnUPMuLmBNRhaPy15lXcQTuBxtx6ClfzEEc8z3tlDFdW8hRHH+pboFA/vU77Ui2zwyOJJo7sM3lo2P9YG469Af0p3GT6bqEMdjbxsJg6oAR5D8HH+7Vr7fGeizH/ti/+FNNWEZZhgYK5sH85bovv+zHcV3nnOPQ1NHdRi41FFgn+YKcLCw/gx/SktOgy5pOf7Jss9fIj/8AQRU9xCLmCWInAkUrn0yMVa2EY9zqZu/D8jm3uCz2+Swi4JxyevStJr5uq2dyxPbao/malO/QDjvFGiXv2mfUXSMRyMi+XGxdgcAentWDNaz2wUzQSwh87fMQrux1xmvqcFiacqcabdpLSx1wkmrEVFeoahRQAUUAFFAHqOnW0IsIB5UZwuOUHbiiztovOvMQx/67+4P7i18HbY88teQhBAjXnj7tQ6Yv/EutcDA8pe3sKdtRlVwfsV51GLrP5OtWo8jU7nk8xxn6cvS6gLOCb207/f8A5UgJh1DYOEljLkf7QIGfxB/QUwLWD700uq9WA+ppiGmaMdZEH1YVTjvLdNQug08S5WM5Lgf3h/SpbQDNM1G0/s61BuoAfKXgyL6fWr0F1DcMRFNHKR12OGx+VEWtBmdEB/wjZUdBAy/kCP6Vq0IRzXj+N30WMqMosw3j6ggfqRWN4xtp4bqxeaXzC1uF2FvuMuNx/Ekc+1evg5R56atrd/kjeDWhz9FfSnSFFABRQAUUAehG3jt9IXy2uBKzMkYjlcktuPHX0BqzaadAbi9yJG/fcZlfpsX3r4FJHAWhptsSMxk/V2/xrLttOtUtdNOzapbax3kA/I3Xn2puKAbqEdnHZyvawBirK3nbiIwdw5JJ5/DNSGWJNX82a4F3OEVYkhIGCxYEAZ54HcnFLRMCW4k/tF4D9gkmjjldWDFOCAR/e9abHpkX9pRmWzto0aFwEUbj95eScY/KjfoBJeaXaj7MvlkIZgCnmNtPB4xn1xSzadaJe2QW1hA+f/lmP7tPlQENjaQDUZR5MeMSjGwf89Af60mpQKs7soVFg8p1RY1wWLNyeM9h3pW0EWLa3jibS1CA/uWGSBz8qmoBAzKiWsrwXX7xdyKpCqZDy2Qe449adv6+4YtzDJY2zW4neaI2svDquQVAwcgD1Na6cqp9QKa7AYnjO1mu9ClWEZCMJJB3KjJOPpwfwrlvE0rXEumTPy8tjGzH1OT/AI16+BcfaQXW7/I2p7oxqK+lOkKKACigAooA9J060leGJpLkuqTO4QRgZO9h1/GnQRzy6hqAjufKVZE+Xyw3/LNe5r4KzstTgJJi1uQJNSKMeg8tMn6DGazEtXuRaILiV7ITDyjLEgLHa5JwR06dRSfa4E17ZyTQXTPdzv8AZ5VaNTs28BTyNvPU1YSyKam0S3MigRBwVSMH7xB52/Si2u4FDSrvzYLa2a7dbiSeRpNpCuwIZvTpnFX5rLGpWw+03PMcn/LT3T2oWq3AL+wx9m/0m5P79P8Alr9anfSopHR2muSyZ2nz2GM9ehqreYAmkW8bl1M285y3nvnnGe/sPyqC4tNLEjieRTJxuD3DZ46cbqVl1EMeOz2BoLKe68sYATcMewLEdvSrmlxRrbCSPbtl+YbDkAdh+H880K19BkeqW0Vy9kssaSr5+MOM8FWpbjSbY28oitYRKVOzKgc44p2TEVjdgRWlnZ24ukYeXNHIxRkTGDnP+fSvOWQI7qBgKxUAnOACQBmvZyt3nJW6HRS3Eor6M6AooAKKACigD1CC0uoIRGLmLqx3CE55JP8Ae96q2dpv1PUkkuJnAaMkBtucoOu0D0r4Kz0uzzx9lJb2F9ep5RjPmLjy4mbI2L1IH14qLT47u6sbOSPyBGjs67wwJHzDn060LshjLr7cLfVv+PbjBI+b/nmtWDFeHWQ/mQKfs+P9WxH3/wDepagSJYXQtraEzwgQFSCIyc4/4FTyky6hbGWVHBVwAse3HAPXJ9KqzQEmoHCQH/pvH/6EKtUxFK6eS6mktIJTAyxh3lUZK5yFA+uDz6VFaMlttZYxFEzbJYx/yzl6Z+h45+h7ml1uMsXjym4too5TDvLbmCgngZ71lx2YiVZWaaVPtEiS7ZmT70mA2AQOD6Y60mrgJIty1nZubyYyiKSQHCfeVDj+H3NakdpI6K32245AP8H/AMTSSfcCGyju5YdxvnI3uvzRqTgMQOce1ee6ukkeq3iy48wTNnAwDzwce4wfxr2cr/iu76f5G1LcqUV9KdIUUAFFABRQB69WdZDGs6n7iE/+OmvhH0PPLFmMXN42esoH5ItVNM0+2e03NCrMZJMk55/eNStcYjQpb2urrGgRQCcKOP8AVCref+JlH7wMf/HlpIRaqtcf8f1n/wAD/wDQaoaG6iMxQ/8AXeL/ANDFS3Nx9mTdt3e2cUAc/fa5JpjR6gYxKt1Ft8nO3btcAHPf75/IVHJr7G6d/s6mOVNksZPDY6H2OMj8vSsnO2ghsfiOVryzjaIMybxvLdeO/vSnWZhp852R/LcM3Q84lz61POwJJbqdGtbfMZwsqbth7j61aGrXUUaqPJO1QMlG5wP96qUmhhot1eXWmQyiSBPMLPtMTHGWJ/v1z3jK1eK9gnlaNpJlIJjjKfdxyck56/pXo4CUlXh5/wCRdP4kc/RX152BRQAUUAFFAH//2Q==' width='200' height='133' class=\"itemThumbnail\">\n",
       "                       </a>\n",
       "                    </div>\n",
       "\n",
       "                    <div class=\"item_right\"     style=\"float: none; width: auto; overflow: hidden;\">\n",
       "                        <a href='https://www.arcgis.com//home/item.html?id=a3191eb75f9940ada2a0fdd420f57b13' target='_blank'><b>USA Tracts</b>\n",
       "                        </a>\n",
       "                        <br/>This layer presents the census tracts of the United States in the 50 states, the District of Columbia, and Puerto Rico.<img src='https://www.arcgis.com//home/js/jsapi/esri/css/images/item_type_icons/featureshosted16.png' style=\"vertical-align:middle;\">Feature Layer Collection by esri_dm\n",
       "                        <br/>Last Modified: October 11, 2018\n",
       "                        <br/>0 comments, 11,940 views\n",
       "                    </div>\n",
       "                </div>\n",
       "                "
      ],
      "text/plain": [
       "<Item title:\"USA Tracts\" type:Feature Layer Collection owner:esri_dm>"
      ]
     },
     "execution_count": 3,
     "metadata": {},
     "output_type": "execute_result"
    }
   ],
   "source": [
    "#Have a look at the 4th result\n",
    "results[3]"
   ]
  },
  {
   "cell_type": "code",
   "execution_count": 4,
   "metadata": {},
   "outputs": [
    {
     "data": {
      "text/plain": [
       "arcgis.gis.Item"
      ]
     },
     "execution_count": 4,
     "metadata": {},
     "output_type": "execute_result"
    }
   ],
   "source": [
    "#Save it as an arcgis \"item\" object\n",
    "tractsItem = results[3]\n",
    "type(tractsItem)"
   ]
  },
  {
   "cell_type": "markdown",
   "metadata": {},
   "source": [
    "→ More info on the ArcGIS `item` object: https://esri.github.io/arcgis-python-api/apidoc/html/arcgis.gis.toc.html#item"
   ]
  },
  {
   "cell_type": "code",
   "execution_count": 6,
   "metadata": {},
   "outputs": [
    {
     "data": {
      "text/plain": [
       "'https://services.arcgis.com/P3ePLMYs2RVChkJx/arcgis/rest/services/USA_Tracts/FeatureServer'"
      ]
     },
     "execution_count": 6,
     "metadata": {},
     "output_type": "execute_result"
    }
   ],
   "source": [
    "tractsItem.url"
   ]
  },
  {
   "cell_type": "code",
   "execution_count": 5,
   "metadata": {
    "scrolled": true
   },
   "outputs": [
    {
     "data": {
      "text/plain": [
       "arcgis.features.layer.FeatureLayer"
      ]
     },
     "execution_count": 5,
     "metadata": {},
     "output_type": "execute_result"
    }
   ],
   "source": [
    "#Get the layer from the item\n",
    "tractsLyr = tractsItem.layers[0]\n",
    "type(tractsLyr)"
   ]
  },
  {
   "cell_type": "markdown",
   "metadata": {},
   "source": [
    "→ More info on the ArcGIS `layer` object: https://esri.github.io/arcgis-python-api/apidoc/html/arcgis.gis.toc.html#layer<br>\n",
    "→ More info on the ArcGIS `FeatureLayer` object: https://esri.github.io/arcgis-python-api/apidoc/html/arcgis.features.toc.html#featurelayer"
   ]
  },
  {
   "cell_type": "markdown",
   "metadata": {},
   "source": [
    "---\n",
    "### Subsetting and downloading content\n",
    "Now that we have what we want as a FeatureLayer object, we can query that layer for just the features we we want to download. Before diving into our query, we'll need to familiarize ourselves with the data. \n",
    "\n",
    "Below are a set of steps mirrored after ESRI's documentation on querying feature layers:<br>\n",
    "https://developers.arcgis.com/python/guide/working-with-feature-layers-and-features/#Querying-feature-layers"
   ]
  },
  {
   "cell_type": "markdown",
   "metadata": {},
   "source": [
    "* First, we could just examine the ESRI REST endpoint for this dataset. To do that, we'd just reveal the URL associated with the data layer..."
   ]
  },
  {
   "cell_type": "code",
   "execution_count": 7,
   "metadata": {},
   "outputs": [
    {
     "name": "stdout",
     "output_type": "stream",
     "text": [
      "https://services.arcgis.com/P3ePLMYs2RVChkJx/arcgis/rest/services/USA_Tracts/FeatureServer/0\n"
     ]
    }
   ],
   "source": [
    "print(tractsLyr.url)"
   ]
  },
  {
   "cell_type": "markdown",
   "metadata": {},
   "source": [
    "* Or we could remain in our Python coding environment and reveal key properties using API functions:"
   ]
  },
  {
   "cell_type": "code",
   "execution_count": 8,
   "metadata": {},
   "outputs": [
    {
     "name": "stdout",
     "output_type": "stream",
     "text": [
      "OBJECTID_1, ObjectID, STATE_FIPS, CNTY_FIPS, STCOFIPS, TRACT, FIPS, POP2010, POP10_SQMI, POP2012, POP12_SQMI, WHITE, BLACK, AMERI_ES, ASIAN, HAWN_PI, HISPANIC, OTHER, MULT_RACE, MALES, FEMALES, AGE_UNDER5, AGE_5_9, AGE_10_14, AGE_15_19, AGE_20_24, AGE_25_34, AGE_35_44, AGE_45_54, AGE_55_64, AGE_65_74, AGE_75_84, AGE_85_UP, MED_AGE, MED_AGE_M, MED_AGE_F, HOUSEHOLDS, AVE_HH_SZ, HSEHLD_1_M, HSEHLD_1_F, MARHH_CHD, MARHH_NO_C, MHH_CHILD, FHH_CHILD, FAMILIES, AVE_FAM_SZ, HSE_UNITS, VACANT, OWNER_OCC, RENTER_OCC, SQMI, "
     ]
    }
   ],
   "source": [
    "#List the fields associated with the raster\n",
    "for f in tractsLyr.properties.fields:\n",
    "    print(f['name'],end=', ')"
   ]
  },
  {
   "cell_type": "markdown",
   "metadata": {},
   "source": [
    "* Now we'll construct a query function, much like if we were invoking the REST interface, but instead using the API functions, which streamline these things. "
   ]
  },
  {
   "cell_type": "code",
   "execution_count": 9,
   "metadata": {},
   "outputs": [
    {
     "data": {
      "text/plain": [
       "arcgis.features.feature.FeatureSet"
      ]
     },
     "execution_count": 9,
     "metadata": {},
     "output_type": "execute_result"
    }
   ],
   "source": [
    "#Query the tracts feature layer for records falling within Durham Co (FIPS 37063)\n",
    "query_result = tractsLyr.query(\"FIPS LIKE '37063%'\")\n",
    "type(query_result)"
   ]
  },
  {
   "cell_type": "markdown",
   "metadata": {},
   "source": [
    "→ More info on the `Feature Set` object: https://esri.github.io/arcgis-python-api/apidoc/html/arcgis.features.toc.html#featureset"
   ]
  },
  {
   "cell_type": "code",
   "execution_count": 10,
   "metadata": {},
   "outputs": [
    {
     "data": {
      "text/plain": [
       "60"
      ]
     },
     "execution_count": 10,
     "metadata": {},
     "output_type": "execute_result"
    }
   ],
   "source": [
    "#Reveal how many features were extracted: \n",
    "len(query_result)"
   ]
  },
  {
   "cell_type": "code",
   "execution_count": 11,
   "metadata": {},
   "outputs": [
    {
     "name": "stdout",
     "output_type": "stream",
     "text": [
      "Output saved as .\\MyFeatures.shp\n"
     ]
    }
   ],
   "source": [
    "#Save the feature set as shapefile\n",
    "outFN = query_result.save('.','MyFeatures')\n",
    "print(\"Output saved as {}\".format(outFN))"
   ]
  },
  {
   "cell_type": "markdown",
   "metadata": {},
   "source": [
    "### Or, analyzing the data here, as a dataframe"
   ]
  },
  {
   "cell_type": "code",
   "execution_count": 14,
   "metadata": {},
   "outputs": [
    {
     "data": {
      "text/html": [
       "<div>\n",
       "<style scoped>\n",
       "    .dataframe tbody tr th:only-of-type {\n",
       "        vertical-align: middle;\n",
       "    }\n",
       "\n",
       "    .dataframe tbody tr th {\n",
       "        vertical-align: top;\n",
       "    }\n",
       "\n",
       "    .dataframe thead th {\n",
       "        text-align: right;\n",
       "    }\n",
       "</style>\n",
       "<table border=\"1\" class=\"dataframe\">\n",
       "  <thead>\n",
       "    <tr style=\"text-align: right;\">\n",
       "      <th></th>\n",
       "      <th>AGE_10_14</th>\n",
       "      <th>AGE_15_19</th>\n",
       "      <th>AGE_20_24</th>\n",
       "      <th>AGE_25_34</th>\n",
       "      <th>AGE_35_44</th>\n",
       "      <th>AGE_45_54</th>\n",
       "      <th>AGE_55_64</th>\n",
       "      <th>AGE_5_9</th>\n",
       "      <th>AGE_65_74</th>\n",
       "      <th>AGE_75_84</th>\n",
       "      <th>...</th>\n",
       "      <th>POP2010</th>\n",
       "      <th>POP2012</th>\n",
       "      <th>RENTER_OCC</th>\n",
       "      <th>SQMI</th>\n",
       "      <th>STATE_FIPS</th>\n",
       "      <th>STCOFIPS</th>\n",
       "      <th>TRACT</th>\n",
       "      <th>VACANT</th>\n",
       "      <th>WHITE</th>\n",
       "      <th>SHAPE</th>\n",
       "    </tr>\n",
       "  </thead>\n",
       "  <tbody>\n",
       "    <tr>\n",
       "      <th>0</th>\n",
       "      <td>232</td>\n",
       "      <td>243</td>\n",
       "      <td>191</td>\n",
       "      <td>510</td>\n",
       "      <td>460</td>\n",
       "      <td>466</td>\n",
       "      <td>299</td>\n",
       "      <td>233</td>\n",
       "      <td>160</td>\n",
       "      <td>100</td>\n",
       "      <td>...</td>\n",
       "      <td>3152</td>\n",
       "      <td>3130</td>\n",
       "      <td>456</td>\n",
       "      <td>1.31</td>\n",
       "      <td>37</td>\n",
       "      <td>37063</td>\n",
       "      <td>000101</td>\n",
       "      <td>127</td>\n",
       "      <td>981</td>\n",
       "      <td>{'rings': [[[-78.8875150111089, 36.03652607561...</td>\n",
       "    </tr>\n",
       "    <tr>\n",
       "      <th>1</th>\n",
       "      <td>226</td>\n",
       "      <td>284</td>\n",
       "      <td>316</td>\n",
       "      <td>879</td>\n",
       "      <td>682</td>\n",
       "      <td>493</td>\n",
       "      <td>439</td>\n",
       "      <td>297</td>\n",
       "      <td>191</td>\n",
       "      <td>196</td>\n",
       "      <td>...</td>\n",
       "      <td>4535</td>\n",
       "      <td>4419</td>\n",
       "      <td>1101</td>\n",
       "      <td>1.53</td>\n",
       "      <td>37</td>\n",
       "      <td>37063</td>\n",
       "      <td>000102</td>\n",
       "      <td>179</td>\n",
       "      <td>1939</td>\n",
       "      <td>{'rings': [[[-78.9062140604305, 36.04292494892...</td>\n",
       "    </tr>\n",
       "    <tr>\n",
       "      <th>2</th>\n",
       "      <td>114</td>\n",
       "      <td>127</td>\n",
       "      <td>210</td>\n",
       "      <td>611</td>\n",
       "      <td>563</td>\n",
       "      <td>439</td>\n",
       "      <td>296</td>\n",
       "      <td>177</td>\n",
       "      <td>102</td>\n",
       "      <td>65</td>\n",
       "      <td>...</td>\n",
       "      <td>2946</td>\n",
       "      <td>3155</td>\n",
       "      <td>662</td>\n",
       "      <td>1.17</td>\n",
       "      <td>37</td>\n",
       "      <td>37063</td>\n",
       "      <td>000200</td>\n",
       "      <td>200</td>\n",
       "      <td>1369</td>\n",
       "      <td>{'rings': [[[-78.880122002928, 36.013835942075...</td>\n",
       "    </tr>\n",
       "    <tr>\n",
       "      <th>3</th>\n",
       "      <td>121</td>\n",
       "      <td>114</td>\n",
       "      <td>271</td>\n",
       "      <td>600</td>\n",
       "      <td>376</td>\n",
       "      <td>277</td>\n",
       "      <td>249</td>\n",
       "      <td>158</td>\n",
       "      <td>84</td>\n",
       "      <td>32</td>\n",
       "      <td>...</td>\n",
       "      <td>2504</td>\n",
       "      <td>2604</td>\n",
       "      <td>759</td>\n",
       "      <td>0.55</td>\n",
       "      <td>37</td>\n",
       "      <td>37063</td>\n",
       "      <td>000301</td>\n",
       "      <td>130</td>\n",
       "      <td>1042</td>\n",
       "      <td>{'rings': [[[-78.9000969815904, 36.01716198573...</td>\n",
       "    </tr>\n",
       "    <tr>\n",
       "      <th>4</th>\n",
       "      <td>143</td>\n",
       "      <td>121</td>\n",
       "      <td>280</td>\n",
       "      <td>835</td>\n",
       "      <td>625</td>\n",
       "      <td>417</td>\n",
       "      <td>322</td>\n",
       "      <td>219</td>\n",
       "      <td>116</td>\n",
       "      <td>64</td>\n",
       "      <td>...</td>\n",
       "      <td>3426</td>\n",
       "      <td>3517</td>\n",
       "      <td>881</td>\n",
       "      <td>0.67</td>\n",
       "      <td>37</td>\n",
       "      <td>37063</td>\n",
       "      <td>000302</td>\n",
       "      <td>124</td>\n",
       "      <td>2249</td>\n",
       "      <td>{'rings': [[[-78.8956800297096, 36.01690994174...</td>\n",
       "    </tr>\n",
       "  </tbody>\n",
       "</table>\n",
       "<p>5 rows × 52 columns</p>\n",
       "</div>"
      ],
      "text/plain": [
       "   AGE_10_14  AGE_15_19  AGE_20_24  AGE_25_34  AGE_35_44  AGE_45_54  \\\n",
       "0        232        243        191        510        460        466   \n",
       "1        226        284        316        879        682        493   \n",
       "2        114        127        210        611        563        439   \n",
       "3        121        114        271        600        376        277   \n",
       "4        143        121        280        835        625        417   \n",
       "\n",
       "   AGE_55_64  AGE_5_9  AGE_65_74  AGE_75_84  \\\n",
       "0        299      233        160        100   \n",
       "1        439      297        191        196   \n",
       "2        296      177        102         65   \n",
       "3        249      158         84         32   \n",
       "4        322      219        116         64   \n",
       "\n",
       "                         ...                          POP2010  POP2012  \\\n",
       "0                        ...                             3152     3130   \n",
       "1                        ...                             4535     4419   \n",
       "2                        ...                             2946     3155   \n",
       "3                        ...                             2504     2604   \n",
       "4                        ...                             3426     3517   \n",
       "\n",
       "   RENTER_OCC  SQMI  STATE_FIPS  STCOFIPS   TRACT VACANT  WHITE  \\\n",
       "0         456  1.31          37     37063  000101    127    981   \n",
       "1        1101  1.53          37     37063  000102    179   1939   \n",
       "2         662  1.17          37     37063  000200    200   1369   \n",
       "3         759  0.55          37     37063  000301    130   1042   \n",
       "4         881  0.67          37     37063  000302    124   2249   \n",
       "\n",
       "                                               SHAPE  \n",
       "0  {'rings': [[[-78.8875150111089, 36.03652607561...  \n",
       "1  {'rings': [[[-78.9062140604305, 36.04292494892...  \n",
       "2  {'rings': [[[-78.880122002928, 36.013835942075...  \n",
       "3  {'rings': [[[-78.9000969815904, 36.01716198573...  \n",
       "4  {'rings': [[[-78.8956800297096, 36.01690994174...  \n",
       "\n",
       "[5 rows x 52 columns]"
      ]
     },
     "execution_count": 14,
     "metadata": {},
     "output_type": "execute_result"
    }
   ],
   "source": [
    "#Convert the feature set data as a dataframe\n",
    "import pandas\n",
    "df = query_result.df\n",
    "df.head()"
   ]
  },
  {
   "cell_type": "markdown",
   "metadata": {},
   "source": [
    "* Note the output has a column called \"SHAPE\". These values are ArcGIS API `geometry` objects. "
   ]
  },
  {
   "cell_type": "markdown",
   "metadata": {},
   "source": [
    "#### Analyzing geometry"
   ]
  },
  {
   "cell_type": "code",
   "execution_count": 15,
   "metadata": {},
   "outputs": [
    {
     "data": {
      "text/plain": [
       "arcgis.geometry._types.Polygon"
      ]
     },
     "execution_count": 15,
     "metadata": {},
     "output_type": "execute_result"
    }
   ],
   "source": [
    "#Get the value in the first row of the \"SHAPE\" column\n",
    "feat = df.loc[0,'SHAPE']\n",
    "type(feat)"
   ]
  },
  {
   "cell_type": "markdown",
   "metadata": {},
   "source": [
    "https://esri.github.io/arcgis-python-api/apidoc/html/arcgis.geometry.html#arcgis.geometry.Geometry.get_area"
   ]
  },
  {
   "cell_type": "code",
   "execution_count": 16,
   "metadata": {},
   "outputs": [
    {
     "data": {
      "text/plain": [
       "1.3141606142467694"
      ]
     },
     "execution_count": 16,
     "metadata": {},
     "output_type": "execute_result"
    }
   ],
   "source": [
    "#Get the area, in square miles\n",
    "feat.get_area(method='GEODESIC',units='MILES')"
   ]
  },
  {
   "cell_type": "markdown",
   "metadata": {},
   "source": [
    "#### Analyzing age demographics"
   ]
  },
  {
   "cell_type": "code",
   "execution_count": 17,
   "metadata": {},
   "outputs": [],
   "source": [
    "#Grab the first 10 columns into a new dataframe\n",
    "ageColsDF = df.iloc[:,:9]"
   ]
  },
  {
   "cell_type": "code",
   "execution_count": 18,
   "metadata": {},
   "outputs": [
    {
     "data": {
      "text/html": [
       "<div>\n",
       "<style scoped>\n",
       "    .dataframe tbody tr th:only-of-type {\n",
       "        vertical-align: middle;\n",
       "    }\n",
       "\n",
       "    .dataframe tbody tr th {\n",
       "        vertical-align: top;\n",
       "    }\n",
       "\n",
       "    .dataframe thead th {\n",
       "        text-align: right;\n",
       "    }\n",
       "</style>\n",
       "<table border=\"1\" class=\"dataframe\">\n",
       "  <thead>\n",
       "    <tr style=\"text-align: right;\">\n",
       "      <th></th>\n",
       "      <th>AGE_10_14</th>\n",
       "      <th>AGE_15_19</th>\n",
       "      <th>AGE_20_24</th>\n",
       "      <th>AGE_25_34</th>\n",
       "      <th>AGE_35_44</th>\n",
       "      <th>AGE_45_54</th>\n",
       "      <th>AGE_55_64</th>\n",
       "      <th>AGE_5_9</th>\n",
       "      <th>AGE_65_74</th>\n",
       "    </tr>\n",
       "  </thead>\n",
       "  <tbody>\n",
       "    <tr>\n",
       "      <th>count</th>\n",
       "      <td>60.000000</td>\n",
       "      <td>60.00000</td>\n",
       "      <td>60.000000</td>\n",
       "      <td>60.000000</td>\n",
       "      <td>60.000000</td>\n",
       "      <td>60.000000</td>\n",
       "      <td>60.00000</td>\n",
       "      <td>60.000000</td>\n",
       "      <td>60.000000</td>\n",
       "    </tr>\n",
       "    <tr>\n",
       "      <th>mean</th>\n",
       "      <td>249.033333</td>\n",
       "      <td>299.20000</td>\n",
       "      <td>387.200000</td>\n",
       "      <td>815.933333</td>\n",
       "      <td>629.366667</td>\n",
       "      <td>568.866667</td>\n",
       "      <td>468.60000</td>\n",
       "      <td>276.050000</td>\n",
       "      <td>234.283333</td>\n",
       "    </tr>\n",
       "    <tr>\n",
       "      <th>std</th>\n",
       "      <td>153.072373</td>\n",
       "      <td>285.56633</td>\n",
       "      <td>355.791731</td>\n",
       "      <td>486.300558</td>\n",
       "      <td>316.393285</td>\n",
       "      <td>298.188057</td>\n",
       "      <td>286.68167</td>\n",
       "      <td>151.812153</td>\n",
       "      <td>154.844711</td>\n",
       "    </tr>\n",
       "    <tr>\n",
       "      <th>min</th>\n",
       "      <td>0.000000</td>\n",
       "      <td>0.00000</td>\n",
       "      <td>0.000000</td>\n",
       "      <td>0.000000</td>\n",
       "      <td>2.000000</td>\n",
       "      <td>0.000000</td>\n",
       "      <td>1.00000</td>\n",
       "      <td>0.000000</td>\n",
       "      <td>0.000000</td>\n",
       "    </tr>\n",
       "    <tr>\n",
       "      <th>25%</th>\n",
       "      <td>138.000000</td>\n",
       "      <td>151.50000</td>\n",
       "      <td>191.000000</td>\n",
       "      <td>506.500000</td>\n",
       "      <td>411.000000</td>\n",
       "      <td>404.750000</td>\n",
       "      <td>295.25000</td>\n",
       "      <td>174.750000</td>\n",
       "      <td>132.500000</td>\n",
       "    </tr>\n",
       "    <tr>\n",
       "      <th>50%</th>\n",
       "      <td>229.000000</td>\n",
       "      <td>232.00000</td>\n",
       "      <td>267.000000</td>\n",
       "      <td>760.000000</td>\n",
       "      <td>627.000000</td>\n",
       "      <td>486.000000</td>\n",
       "      <td>440.00000</td>\n",
       "      <td>282.000000</td>\n",
       "      <td>193.500000</td>\n",
       "    </tr>\n",
       "    <tr>\n",
       "      <th>75%</th>\n",
       "      <td>341.750000</td>\n",
       "      <td>333.00000</td>\n",
       "      <td>452.500000</td>\n",
       "      <td>1068.000000</td>\n",
       "      <td>833.500000</td>\n",
       "      <td>728.250000</td>\n",
       "      <td>577.25000</td>\n",
       "      <td>360.750000</td>\n",
       "      <td>297.000000</td>\n",
       "    </tr>\n",
       "    <tr>\n",
       "      <th>max</th>\n",
       "      <td>775.000000</td>\n",
       "      <td>1705.00000</td>\n",
       "      <td>2153.000000</td>\n",
       "      <td>2109.000000</td>\n",
       "      <td>1654.000000</td>\n",
       "      <td>1301.000000</td>\n",
       "      <td>1266.00000</td>\n",
       "      <td>732.000000</td>\n",
       "      <td>642.000000</td>\n",
       "    </tr>\n",
       "  </tbody>\n",
       "</table>\n",
       "</div>"
      ],
      "text/plain": [
       "        AGE_10_14   AGE_15_19    AGE_20_24    AGE_25_34    AGE_35_44  \\\n",
       "count   60.000000    60.00000    60.000000    60.000000    60.000000   \n",
       "mean   249.033333   299.20000   387.200000   815.933333   629.366667   \n",
       "std    153.072373   285.56633   355.791731   486.300558   316.393285   \n",
       "min      0.000000     0.00000     0.000000     0.000000     2.000000   \n",
       "25%    138.000000   151.50000   191.000000   506.500000   411.000000   \n",
       "50%    229.000000   232.00000   267.000000   760.000000   627.000000   \n",
       "75%    341.750000   333.00000   452.500000  1068.000000   833.500000   \n",
       "max    775.000000  1705.00000  2153.000000  2109.000000  1654.000000   \n",
       "\n",
       "         AGE_45_54   AGE_55_64     AGE_5_9   AGE_65_74  \n",
       "count    60.000000    60.00000   60.000000   60.000000  \n",
       "mean    568.866667   468.60000  276.050000  234.283333  \n",
       "std     298.188057   286.68167  151.812153  154.844711  \n",
       "min       0.000000     1.00000    0.000000    0.000000  \n",
       "25%     404.750000   295.25000  174.750000  132.500000  \n",
       "50%     486.000000   440.00000  282.000000  193.500000  \n",
       "75%     728.250000   577.25000  360.750000  297.000000  \n",
       "max    1301.000000  1266.00000  732.000000  642.000000  "
      ]
     },
     "execution_count": 18,
     "metadata": {},
     "output_type": "execute_result"
    }
   ],
   "source": [
    "#Summarize those columns\n",
    "ageColsDF.describe()"
   ]
  },
  {
   "cell_type": "code",
   "execution_count": 20,
   "metadata": {},
   "outputs": [
    {
     "data": {
      "text/plain": [
       "AGE_10_14    14942\n",
       "AGE_15_19    17952\n",
       "AGE_20_24    23232\n",
       "AGE_25_34    48956\n",
       "AGE_35_44    37762\n",
       "AGE_45_54    34132\n",
       "AGE_55_64    28116\n",
       "AGE_5_9      16563\n",
       "AGE_65_74    14057\n",
       "dtype: int64"
      ]
     },
     "execution_count": 20,
     "metadata": {},
     "output_type": "execute_result"
    }
   ],
   "source": [
    "#Plot demographics: count within each age group\n",
    "ageColsDF.sum()"
   ]
  },
  {
   "cell_type": "code",
   "execution_count": 21,
   "metadata": {},
   "outputs": [
    {
     "data": {
      "image/png": "[encoded data removed]",
      "text/plain": [
       "<Figure size 432x288 with 1 Axes>"
      ]
     },
     "metadata": {},
     "output_type": "display_data"
    }
   ],
   "source": [
    "%matplotlib inline\n",
    "ageColsDF.sum().plot(kind='bar');"
   ]
  }
 ],
 "metadata": {
  "kernelspec": {
   "display_name": "Python 3",
   "language": "python",
   "name": "python3"
  },
  "language_info": {
   "codemirror_mode": {
    "name": "ipython",
    "version": 3
   },
   "file_extension": ".py",
   "mimetype": "text/x-python",
   "name": "python",
   "nbconvert_exporter": "python",
   "pygments_lexer": "ipython3",
   "version": "3.6.5"
  }
 },
 "nbformat": 4,
 "nbformat_minor": 2
}
