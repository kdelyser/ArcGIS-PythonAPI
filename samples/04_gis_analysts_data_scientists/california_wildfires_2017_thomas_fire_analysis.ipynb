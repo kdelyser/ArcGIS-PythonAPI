{
 "cells": [
  {
   "cell_type": "markdown",
   "metadata": {},
   "source": [
    "## California wildfires 2017 - Thomas Fire analysis"
   ]
  },
  {
   "cell_type": "markdown",
   "metadata": {},
   "source": [
    "The Thomas Fire was a massive wildfire that started in early December 2017 in Ventura and Santa Barbara counties and grew into California's largest fire ever.\n",
    "\n",
    "![](../../static/img/thomasfire_cropped.jpg)"
   ]
  },
  {
   "cell_type": "code",
   "execution_count": 1,
   "metadata": {},
   "outputs": [],
   "source": [
    "import arcgis\n",
    "from arcgis import *\n",
    "from arcgis.mapping import MapImageLayer"
   ]
  },
  {
   "cell_type": "code",
   "execution_count": 2,
   "metadata": {},
   "outputs": [],
   "source": [
    "gis = GIS('pro') "
   ]
  },
  {
   "cell_type": "markdown",
   "metadata": {},
   "source": [
    "## Visualize the extent of damage"
   ]
  },
  {
   "cell_type": "code",
   "execution_count": 3,
   "metadata": {},
   "outputs": [],
   "source": [
    "from ipywidgets import *\n",
    "\n",
    "postfire = MapImageLayer('https://tiles.arcgis.com/tiles/DO4gTjwJVIJ7O9Ca/arcgis/rest/services/Digital_Globe_Imagery_Dec_11th/MapServer')\n",
    "\n",
    "def side_by_side(address):\n",
    "    location = geocode(address)[0]\n",
    "\n",
    "    satmap1 = gis.map(location)\n",
    "    satmap1.basemap = 'satellite'\n",
    "\n",
    "    satmap2 = gis.map(location)\n",
    "    satmap2.add_layer(postfire)\n",
    "\n",
    "    satmap1.layout=Layout(flex='1 1', padding='6px')\n",
    "    satmap2.layout=Layout(flex='1 1', padding='6px')\n",
    "\n",
    "    box = HBox([satmap1, satmap2])\n",
    "    return box"
   ]
  },
  {
   "cell_type": "markdown",
   "metadata": {},
   "source": [
    "### Nob Hill, Ventura, CA"
   ]
  },
  {
   "cell_type": "code",
   "execution_count": 5,
   "metadata": {},
   "outputs": [
    {
     "data": {
      "application/vnd.jupyter.widget-view+json": {
       "model_id": "25679706476145cda5d2f9d5de130c13",
       "version_major": 2,
       "version_minor": 0
      },
      "text/plain": [
       "HBox(children=(MapView(basemaps=['dark-gray', 'dark-gray-vector', 'gray', 'gray-vector', 'hybrid', 'national-g…"
      ]
     },
     "metadata": {},
     "output_type": "display_data"
    }
   ],
   "source": [
    "side_by_side('Montclair Dr, Ventura, CA')"
   ]
  },
  {
   "cell_type": "markdown",
   "metadata": {},
   "source": [
    "### Vista Del Mar Hospital, Ventura, CA"
   ]
  },
  {
   "cell_type": "code",
   "execution_count": 6,
   "metadata": {},
   "outputs": [
    {
     "data": {
      "application/vnd.jupyter.widget-view+json": {
       "model_id": "e00d1f19295d4af4a6d3d645765bcd79",
       "version_major": 2,
       "version_minor": 0
      },
      "text/plain": [
       "HBox(children=(MapView(basemaps=['dark-gray', 'dark-gray-vector', 'gray', 'gray-vector', 'hybrid', 'national-g…"
      ]
     },
     "metadata": {},
     "output_type": "display_data"
    }
   ],
   "source": [
    "side_by_side('801 Seneca St, Ventura, CA 93001')"
   ]
  },
  {
   "cell_type": "markdown",
   "metadata": {
    "collapsed": true
   },
   "source": [
    "## Remote Sensing and Image Processing"
   ]
  },
  {
   "cell_type": "code",
   "execution_count": 7,
   "metadata": {},
   "outputs": [
    {
     "data": {
      "text/html": [
       "<div class=\"item_container\" style=\"height: auto; overflow: hidden; border: 1px solid #cfcfcf; border-radius: 2px; background: #f6fafa; line-height: 1.21429em; padding: 10px;\">\n",
       "                    <div class=\"item_left\" style=\"width: 210px; float: left;\">\n",
       "                       <a href='https://www.arcgis.com//home/item.html?id=d9b466d6a9e647ce8d1dd5fe12eb434b' target='_blank'>\n",
       "                        <img src='data:image/png;base64,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' width='200' height='133' class=\"itemThumbnail\">\n",
       "                       </a>\n",
       "                    </div>\n",
       "\n",
       "                    <div class=\"item_right\"     style=\"float: none; width: auto; overflow: hidden;\">\n",
       "                        <a href='https://www.arcgis.com//home/item.html?id=d9b466d6a9e647ce8d1dd5fe12eb434b' target='_blank'><b>Multispectral Landsat</b>\n",
       "                        </a>\n",
       "                        <br/>Landsat 8 OLI, 30m multispectral and multitemporal 8-band imagery, with on-the-fly renderings and indices.  This imagery layer is sourced from the Landsat on AWS collections and is updated daily with new imagery.<img src='https://www.arcgis.com//home/js/jsapi/esri/css/images/item_type_icons/imagery16.png' style=\"vertical-align:middle;\">Imagery Layer by esri\n",
       "                        <br/>Last Modified: May 03, 2018\n",
       "                        <br/>0 comments, 88,888 views\n",
       "                    </div>\n",
       "                </div>\n",
       "                "
      ],
      "text/plain": [
       "<Item title:\"Multispectral Landsat\" type:Imagery Layer owner:esri>"
      ]
     },
     "execution_count": 7,
     "metadata": {},
     "output_type": "execute_result"
    }
   ],
   "source": [
    "landsat_item = gis.content.search('title:Multispectral Landsat', 'Imagery Layer', outside_org=True)[0]\n",
    "landsat = landsat_item.layers[0]\n",
    "landsat_item"
   ]
  },
  {
   "cell_type": "markdown",
   "metadata": {
    "heading_collapsed": true
   },
   "source": [
    "### Select before and after rasters"
   ]
  },
  {
   "cell_type": "code",
   "execution_count": 8,
   "metadata": {
    "hidden": true
   },
   "outputs": [],
   "source": [
    "aoi = {'spatialReference': {'latestWkid': 3857, 'wkid': 102100}, 'type': 'extent', \n",
    "       'xmax': -13305000, 'xmin': -13315000, 'ymax': 4106000, 'ymin': 4052000}\n",
    "arcgis.env.analysis_extent = {\"xmin\":-13337766,\"ymin\":4061097,\"xmax\":-13224868,\"ymax\":4111469,\n",
    "                              \"spatialReference\":{\"wkid\":102100,\"latestWkid\":3857}}\n",
    "landsat.extent = aoi"
   ]
  },
  {
   "cell_type": "code",
   "execution_count": 9,
   "metadata": {
    "hidden": true
   },
   "outputs": [
    {
     "ename": "AttributeError",
     "evalue": "'FeatureSet' object has no attribute 'sdf'",
     "output_type": "error",
     "traceback": [
      "\u001b[1;31m---------------------------------------------------------------------------\u001b[0m",
      "\u001b[1;31mAttributeError\u001b[0m                            Traceback (most recent call last)",
      "\u001b[1;32m<ipython-input-9-97c4a5b76d70>\u001b[0m in \u001b[0;36m<module>\u001b[1;34m()\u001b[0m\n\u001b[0;32m      7\u001b[0m \u001b[1;33m\u001b[0m\u001b[0m\n\u001b[0;32m      8\u001b[0m df = selected.query(out_fields=\"AcquisitionDate, GroupName, CloudCover, DayOfYear\", \n\u001b[1;32m----> 9\u001b[1;33m                     order_by_fields=\"AcquisitionDate\").sdf\n\u001b[0m\u001b[0;32m     10\u001b[0m \u001b[0mdf\u001b[0m\u001b[1;33m[\u001b[0m\u001b[1;34m'AcquisitionDate'\u001b[0m\u001b[1;33m]\u001b[0m \u001b[1;33m=\u001b[0m \u001b[0mpd\u001b[0m\u001b[1;33m.\u001b[0m\u001b[0mto_datetime\u001b[0m\u001b[1;33m(\u001b[0m\u001b[0mdf\u001b[0m\u001b[1;33m[\u001b[0m\u001b[1;34m'AcquisitionDate'\u001b[0m\u001b[1;33m]\u001b[0m\u001b[1;33m,\u001b[0m \u001b[0munit\u001b[0m\u001b[1;33m=\u001b[0m\u001b[1;34m'ms'\u001b[0m\u001b[1;33m)\u001b[0m\u001b[1;33m\u001b[0m\u001b[0m\n\u001b[0;32m     11\u001b[0m \u001b[0mdf\u001b[0m\u001b[1;33m.\u001b[0m\u001b[0mtail\u001b[0m\u001b[1;33m(\u001b[0m\u001b[1;33m)\u001b[0m\u001b[1;33m\u001b[0m\u001b[0m\n",
      "\u001b[1;31mAttributeError\u001b[0m: 'FeatureSet' object has no attribute 'sdf'"
     ]
    }
   ],
   "source": [
    "import pandas as pd\n",
    "from datetime import datetime\n",
    "\n",
    "selected = landsat.filter_by(where=\"(Category = 1)\",\n",
    "                             time=[datetime(2017, 11, 15), datetime(2018, 1, 1)],\n",
    "                             geometry=arcgis.geometry.filters.intersects(aoi))\n",
    "\n",
    "df = selected.query(out_fields=\"AcquisitionDate, GroupName, CloudCover, DayOfYear\", \n",
    "                    order_by_fields=\"AcquisitionDate\").sdf\n",
    "df['AcquisitionDate'] = pd.to_datetime(df['AcquisitionDate'], unit='ms')\n",
    "df.tail()"
   ]
  },
  {
   "cell_type": "code",
   "execution_count": null,
   "metadata": {
    "hidden": true
   },
   "outputs": [],
   "source": [
    "prefire = landsat.filter_by('OBJECTID=591810') # 2017-11-23 \n",
    "midfire = landsat.filter_by('OBJECTID=599875') # 2017-12-09 "
   ]
  },
  {
   "cell_type": "markdown",
   "metadata": {},
   "source": [
    "## Visual Assessment"
   ]
  },
  {
   "cell_type": "code",
   "execution_count": null,
   "metadata": {},
   "outputs": [],
   "source": [
    "from arcgis.raster.functions import *\n",
    "\n",
    "apply(midfire, 'Natural Color with DRA')"
   ]
  },
  {
   "cell_type": "markdown",
   "metadata": {},
   "source": [
    "### Visualize Burn Scars"
   ]
  },
  {
   "cell_type": "markdown",
   "metadata": {},
   "source": [
    "Extract the [6, 4, 1] bands to improve visibility of fire and burn scars. This band combination pushes further into the SWIR range of the electromagnetic spectrum, where there is less susceptibility to smoke and haze generated by a burning fire."
   ]
  },
  {
   "cell_type": "code",
   "execution_count": null,
   "metadata": {},
   "outputs": [],
   "source": [
    "extract_band(midfire, [6,4,1])"
   ]
  },
  {
   "cell_type": "code",
   "execution_count": null,
   "metadata": {},
   "outputs": [],
   "source": [
    "extract_band(prefire, [6,4,1])"
   ]
  },
  {
   "cell_type": "markdown",
   "metadata": {},
   "source": [
    "For comparison, the same area before the fire started shows no burn scar."
   ]
  },
  {
   "cell_type": "markdown",
   "metadata": {},
   "source": [
    "## Quantitative Assessment"
   ]
  },
  {
   "cell_type": "markdown",
   "metadata": {},
   "source": [
    "The **Normalized Burn Ratio (NBR)** can be used to delineate the burnt areas and identify the severity of the fire. \n",
    "\n",
    "The formula for the NBR is very similar to that of NDVI except that it uses near-infrared band 5 and the short-wave infrared band 7:\n",
    "\\begin{align}\n",
    "{\\mathbf{NBR}} = \\frac{\\mathbf{B_5} - \\mathbf{B_7}}{\\mathbf{B_5} + \\mathbf{B_7}} \\\\   \n",
    "\\end{align}\n",
    "\n",
    "The NBR equation was designed to be calcualted from reflectance, but it can be calculated from radiance and digital_number_(dn) with changes to the burn severity table below. \n",
    "\n",
    "For a given area, NBR is calculated from an image just prior to the burn and a second NBR is calculated for an image immediately following the burn. Burn extent and severity is judged by taking the difference between these two index layers:\n",
    "\n",
    "\\begin{align}\n",
    "{\\Delta \\mathbf{NBR}} = \\mathbf{NBR_{prefire}} - \\mathbf{NBR_{postfire}} \\\\   \n",
    "\\end{align}\n",
    "\n",
    "The meaning of the ∆NBR values can vary by scene, and interpretation in specific instances should always be based on some field assessment. However, the following table from the USGS FireMon program can be useful as a first approximation for interpreting the NBR difference:\n",
    "\n",
    "\n",
    "| \\begin{align}{\\Delta \\mathbf{NBR}}  \\end{align}      | Burn Severity |\n",
    "| ------------- |:-------------:|\n",
    "| 0.1 to 0.27   | Low severity burn |\n",
    "| 0.27 to 0.44  | Medium severity burn |\n",
    "| 0.44 to 0.66 | Moderate severity burn |\n",
    "| > 0.66 | High severity burn |\n",
    "\n",
    "[Source: http://wiki.landscapetoolbox.org/doku.php/remote_sensing_methods:normalized_burn_ratio]"
   ]
  },
  {
   "cell_type": "markdown",
   "metadata": {},
   "source": [
    "### Use Band Arithmetic and Map Algebra "
   ]
  },
  {
   "cell_type": "code",
   "execution_count": 13,
   "metadata": {},
   "outputs": [],
   "source": [
    "nbr_prefire  = band_arithmetic(prefire, \"(b5 - b7) / (b5 + b7)\")\n",
    "nbr_postfire = band_arithmetic(midfire, \"(b5 - b7) / (b5 + b7)\")\n",
    "\n",
    "nbr_diff = nbr_prefire - nbr_postfire"
   ]
  },
  {
   "cell_type": "code",
   "execution_count": 14,
   "metadata": {},
   "outputs": [],
   "source": [
    "burnt_areas = colormap(remap(nbr_diff,\n",
    "                             input_ranges=[0.1,  0.27,  # low severity \n",
    "                                           0.27, 0.44,  # medium severity\n",
    "                                           0.44, 0.66,  # moderate severity\n",
    "                                           0.66, 1.00], # high severity burn\n",
    "                             output_values=[1, 2, 3, 4],                    \n",
    "                             no_data_ranges=[-1, 0.1], astype='u8'), \n",
    "                       colormap=[[4, 0xFF, 0xC3, 0], [3, 0xFA, 0x8E, 0], [2, 0xF2, 0x55, 0], [1, 0xE6, 0,    0]])"
   ]
  },
  {
   "cell_type": "code",
   "execution_count": 15,
   "metadata": {},
   "outputs": [
    {
     "data": {
      "image/svg+xml": [
       "<?xml version=\"1.0\" encoding=\"UTF-8\" standalone=\"no\"?>\r\n",
       "<!DOCTYPE svg PUBLIC \"-//W3C//DTD SVG 1.1//EN\"\r\n",
       " \"http://www.w3.org/Graphics/SVG/1.1/DTD/svg11.dtd\">\r\n",
       "<!-- Generated by graphviz version 2.38.0 (20140413.2041)\r\n",
       " -->\r\n",
       "<!-- Title: %3 Pages: 1 -->\r\n",
       "<svg width=\"545pt\" height=\"116pt\"\r\n",
       " viewBox=\"0.00 0.00 545.00 116.00\" xmlns=\"http://www.w3.org/2000/svg\" xmlns:xlink=\"http://www.w3.org/1999/xlink\">\r\n",
       "<g id=\"graph0\" class=\"graph\" transform=\"scale(1 1) rotate(0) translate(4 112)\">\r\n",
       "<title>%3</title>\r\n",
       "<polygon fill=\"white\" stroke=\"none\" points=\"-4,4 -4,-112 541,-112 541,4 -4,4\"/>\r\n",
       "<!-- 0 -->\r\n",
       "<g id=\"node1\" class=\"node\"><title>0</title>\r\n",
       "<path fill=\"#ffec8b\" stroke=\"#ffec8b\" d=\"M525,-72C525,-72 473,-72 473,-72 467,-72 461,-66 461,-60 461,-60 461,-48 461,-48 461,-42 467,-36 473,-36 473,-36 525,-36 525,-36 531,-36 537,-42 537,-48 537,-48 537,-60 537,-60 537,-66 531,-72 525,-72\"/>\r\n",
       "<text text-anchor=\"middle\" x=\"499\" y=\"-50.3\" font-family=\"sans-serif\" font-size=\"14.00\">Colormap</text>\r\n",
       "</g>\r\n",
       "<!-- 1 -->\r\n",
       "<g id=\"node2\" class=\"node\"><title>1</title>\r\n",
       "<path fill=\"#ffec8b\" stroke=\"#ffec8b\" d=\"M413,-72C413,-72 376,-72 376,-72 370,-72 364,-66 364,-60 364,-60 364,-48 364,-48 364,-42 370,-36 376,-36 376,-36 413,-36 413,-36 419,-36 425,-42 425,-48 425,-48 425,-60 425,-60 425,-66 419,-72 413,-72\"/>\r\n",
       "<text text-anchor=\"middle\" x=\"394.5\" y=\"-50.3\" font-family=\"sans-serif\" font-size=\"14.00\">Remap</text>\r\n",
       "</g>\r\n",
       "<!-- 1&#45;&gt;0 -->\r\n",
       "<g id=\"edge1\" class=\"edge\"><title>1&#45;&gt;0</title>\r\n",
       "<path fill=\"none\" stroke=\"silver\" d=\"M425.007,-54C425.007,-54 451.835,-54 451.835,-54\"/>\r\n",
       "<polygon fill=\"silver\" stroke=\"silver\" points=\"451.835,-57.1501 460.835,-54 451.835,-50.8501 451.835,-57.1501\"/>\r\n",
       "</g>\r\n",
       "<!-- 2 -->\r\n",
       "<g id=\"node3\" class=\"node\"><title>2</title>\r\n",
       "<path fill=\"#ffec8b\" stroke=\"#ffec8b\" d=\"M316,-72C316,-72 286,-72 286,-72 280,-72 274,-66 274,-60 274,-60 274,-48 274,-48 274,-42 280,-36 286,-36 286,-36 316,-36 316,-36 322,-36 328,-42 328,-48 328,-48 328,-60 328,-60 328,-66 322,-72 316,-72\"/>\r\n",
       "<text text-anchor=\"middle\" x=\"301\" y=\"-50.3\" font-family=\"sans-serif\" font-size=\"14.00\">Local</text>\r\n",
       "</g>\r\n",
       "<!-- 2&#45;&gt;1 -->\r\n",
       "<g id=\"edge2\" class=\"edge\"><title>2&#45;&gt;1</title>\r\n",
       "<path fill=\"none\" stroke=\"silver\" d=\"M328.044,-54C328.044,-54 354.901,-54 354.901,-54\"/>\r\n",
       "<polygon fill=\"silver\" stroke=\"silver\" points=\"354.901,-57.1501 363.901,-54 354.901,-50.8501 354.901,-57.1501\"/>\r\n",
       "</g>\r\n",
       "<!-- 3 -->\r\n",
       "<g id=\"node4\" class=\"node\"><title>3</title>\r\n",
       "<path fill=\"#ffec8b\" stroke=\"#ffec8b\" d=\"M226,-108C226,-108 138,-108 138,-108 132,-108 126,-102 126,-96 126,-96 126,-84 126,-84 126,-78 132,-72 138,-72 138,-72 226,-72 226,-72 232,-72 238,-78 238,-84 238,-84 238,-96 238,-96 238,-102 232,-108 226,-108\"/>\r\n",
       "<text text-anchor=\"middle\" x=\"182\" y=\"-86.3\" font-family=\"sans-serif\" font-size=\"14.00\">BandArithmetic</text>\r\n",
       "</g>\r\n",
       "<!-- 3&#45;&gt;2 -->\r\n",
       "<g id=\"edge3\" class=\"edge\"><title>3&#45;&gt;2</title>\r\n",
       "<path fill=\"none\" stroke=\"silver\" d=\"M238.015,-90C268.88,-90 301,-90 301,-90 301,-90 301,-81.4218 301,-81.4218\"/>\r\n",
       "<polygon fill=\"silver\" stroke=\"silver\" points=\"304.15,-81.4218 301,-72.4218 297.85,-81.4219 304.15,-81.4218\"/>\r\n",
       "</g>\r\n",
       "<!-- 4 -->\r\n",
       "<g id=\"node5\" class=\"node\"><title>4</title>\r\n",
       "<polygon fill=\"#b4eeb4\" stroke=\"#b4eeb4\" points=\"84,-108 0,-108 0,-72 90,-72 90,-102 84,-108\"/>\r\n",
       "<polyline fill=\"none\" stroke=\"#b4eeb4\" points=\"84,-108 84,-102 \"/>\r\n",
       "<polyline fill=\"none\" stroke=\"#b4eeb4\" points=\"90,-102 84,-102 \"/>\r\n",
       "<text text-anchor=\"middle\" x=\"45\" y=\"-86.3\" font-family=\"sans-serif\" font-size=\"14.00\">Landsat/MS</text>\r\n",
       "</g>\r\n",
       "<!-- 4&#45;&gt;3 -->\r\n",
       "<g id=\"edge4\" class=\"edge\"><title>4&#45;&gt;3</title>\r\n",
       "<path fill=\"none\" stroke=\"silver\" d=\"M90.2386,-90C90.2386,-90 116.812,-90 116.812,-90\"/>\r\n",
       "<polygon fill=\"silver\" stroke=\"silver\" points=\"116.812,-93.1501 125.812,-90 116.812,-86.8501 116.812,-93.1501\"/>\r\n",
       "</g>\r\n",
       "<!-- 5 -->\r\n",
       "<g id=\"node6\" class=\"node\"><title>5</title>\r\n",
       "<path fill=\"#ffec8b\" stroke=\"#ffec8b\" d=\"M226,-36C226,-36 138,-36 138,-36 132,-36 126,-30 126,-24 126,-24 126,-12 126,-12 126,-6 132,-0 138,-0 138,-0 226,-0 226,-0 232,-0 238,-6 238,-12 238,-12 238,-24 238,-24 238,-30 232,-36 226,-36\"/>\r\n",
       "<text text-anchor=\"middle\" x=\"182\" y=\"-14.3\" font-family=\"sans-serif\" font-size=\"14.00\">BandArithmetic</text>\r\n",
       "</g>\r\n",
       "<!-- 5&#45;&gt;2 -->\r\n",
       "<g id=\"edge5\" class=\"edge\"><title>5&#45;&gt;2</title>\r\n",
       "<path fill=\"none\" stroke=\"silver\" d=\"M238.015,-18C268.88,-18 301,-18 301,-18 301,-18 301,-26.5782 301,-26.5782\"/>\r\n",
       "<polygon fill=\"silver\" stroke=\"silver\" points=\"297.85,-26.5781 301,-35.5782 304.15,-26.5782 297.85,-26.5781\"/>\r\n",
       "</g>\r\n",
       "<!-- 6 -->\r\n",
       "<g id=\"node7\" class=\"node\"><title>6</title>\r\n",
       "<polygon fill=\"#b4eeb4\" stroke=\"#b4eeb4\" points=\"84,-36 0,-36 0,-0 90,-0 90,-30 84,-36\"/>\r\n",
       "<polyline fill=\"none\" stroke=\"#b4eeb4\" points=\"84,-36 84,-30 \"/>\r\n",
       "<polyline fill=\"none\" stroke=\"#b4eeb4\" points=\"90,-30 84,-30 \"/>\r\n",
       "<text text-anchor=\"middle\" x=\"45\" y=\"-14.3\" font-family=\"sans-serif\" font-size=\"14.00\">Landsat/MS</text>\r\n",
       "</g>\r\n",
       "<!-- 6&#45;&gt;5 -->\r\n",
       "<g id=\"edge6\" class=\"edge\"><title>6&#45;&gt;5</title>\r\n",
       "<path fill=\"none\" stroke=\"silver\" d=\"M90.2386,-18C90.2386,-18 116.812,-18 116.812,-18\"/>\r\n",
       "<polygon fill=\"silver\" stroke=\"silver\" points=\"116.812,-21.1501 125.812,-18 116.812,-14.8501 116.812,-21.1501\"/>\r\n",
       "</g>\r\n",
       "</g>\r\n",
       "</svg>\r\n"
      ],
      "text/plain": [
       "<graphviz.dot.Digraph at 0x25f031557b8>"
      ]
     },
     "execution_count": 15,
     "metadata": {},
     "output_type": "execute_result"
    }
   ],
   "source": [
    "burnt_areas.draw_graph()"
   ]
  },
  {
   "cell_type": "markdown",
   "metadata": {
    "heading_collapsed": true
   },
   "source": [
    "### Area calculation"
   ]
  },
  {
   "cell_type": "code",
   "execution_count": 16,
   "metadata": {
    "hidden": true
   },
   "outputs": [],
   "source": [
    "ext = {\"xmax\": -13246079.10806628, \"ymin\": 4035733.9433013694, \"xmin\": -13438700.419344831, \"ymax\": 4158033.188557592,\n",
    "       \"spatialReference\": {\"wkid\": 102100, \"latestWkid\": 3857}, \"type\": \"extent\"}\n",
    "pixx = (ext['xmax'] - ext['xmin']) / 1200.0\n",
    "pixy = (ext['ymax'] - ext['ymin']) / 450.0\n",
    "\n",
    "res = burnt_areas.compute_histograms(ext, pixel_size={'x':pixx, 'y':pixy})\n",
    "\n",
    "numpix = 0\n",
    "histogram = res['histograms'][0]['counts'][1:]\n",
    "for i in histogram:\n",
    "    numpix += i"
   ]
  },
  {
   "cell_type": "markdown",
   "metadata": {},
   "source": [
    "### Report burnt area"
   ]
  },
  {
   "cell_type": "code",
   "execution_count": 17,
   "metadata": {},
   "outputs": [
    {
     "data": {
      "text/html": [
       "<h3>Thomas fire has consumed <i>229,304 acres</i>  till 2017-12-25</h3>."
      ],
      "text/plain": [
       "<IPython.core.display.HTML object>"
      ]
     },
     "execution_count": 17,
     "metadata": {},
     "output_type": "execute_result"
    }
   ],
   "source": [
    "from IPython.display import HTML\n",
    "sqmarea = numpix * pixx * pixy # in sq. m\n",
    "acres = 0.00024711 * sqmarea   # in acres\n",
    "\n",
    "HTML('<h3>Thomas fire has consumed <i>{:,} acres</i>  till {}</h3>.'.format(int(acres), df.iloc[-1]['AcquisitionDate'].date()))"
   ]
  },
  {
   "cell_type": "code",
   "execution_count": 18,
   "metadata": {},
   "outputs": [
    {
     "data": {
      "image/png": "[encoded data removed]",
      "text/plain": [
       "<matplotlib.figure.Figure at 0x25f0317c710>"
      ]
     },
     "metadata": {},
     "output_type": "display_data"
    }
   ],
   "source": [
    "import matplotlib.pyplot as plt\n",
    "%matplotlib inline\n",
    "\n",
    "plt.title('Distribution by severity', y=-0.1)\n",
    "plt.pie(histogram, labels=['Low Severity', 'Medium Severity', 'Moderate Severity', 'High Severity']);\n",
    "plt.axis('equal');"
   ]
  },
  {
   "cell_type": "markdown",
   "metadata": {},
   "source": [
    "### Visualize burnt areas"
   ]
  },
  {
   "cell_type": "code",
   "execution_count": 61,
   "metadata": {},
   "outputs": [
    {
     "data": {
      "application/vnd.jupyter.widget-view+json": {
       "model_id": "6825768a9a554357b47ac4dcb5e91eb4",
       "version_major": 2,
       "version_minor": 0
      },
      "text/html": [
       "<p>Failed to display Jupyter Widget of type <code>MapView</code>.</p>\n",
       "<p>\n",
       "  If you're reading this message in Jupyter Notebook or JupyterLab, it may mean\n",
       "  that the widgets JavaScript is still loading. If this message persists, it\n",
       "  likely means that the widgets JavaScript library is either not installed or\n",
       "  not enabled. See the <a href=\"https://ipywidgets.readthedocs.io/en/stable/user_install.html\">Jupyter\n",
       "  Widgets Documentation</a> for setup instructions.\n",
       "</p>\n",
       "<p>\n",
       "  If you're reading this message in another notebook frontend (for example, a static\n",
       "  rendering on GitHub or <a href=\"https://nbviewer.jupyter.org/\">NBViewer</a>),\n",
       "  it may mean that your frontend doesn't currently support widgets.\n",
       "</p>\n"
      ],
      "text/plain": [
       "MapView(basemaps=['dark-gray', 'dark-gray-vector', 'gray', 'gray-vector', 'hybrid', 'national-geographic', 'oceans', 'osm', 'satellite', 'streets', 'streets-navigation-vector', 'streets-night-vector', 'streets-relief-vector', 'streets-vector', 'terrain', 'topo', 'topo-vector'], center=[34.39152000000007, -119.50831], zoom=10)"
      ]
     },
     "metadata": {},
     "output_type": "display_data"
    }
   ],
   "source": [
    "m = gis.map('Carpinteria, CA', zoomlevel=10)\n",
    "m"
   ]
  },
  {
   "cell_type": "code",
   "execution_count": 62,
   "metadata": {},
   "outputs": [],
   "source": [
    "m.add_layer([midfire, burnt_areas])"
   ]
  },
  {
   "cell_type": "markdown",
   "metadata": {},
   "source": [
    "## Raster to Feature layer conversion"
   ]
  },
  {
   "cell_type": "markdown",
   "metadata": {},
   "source": [
    "Use Raster Analytics and Geoanalytics to convert the burnt area raster to a feature layer. The `to_features()` method converts the raster to a feature layer and `create_buffers()` fills holes in the features and dissolves them to output one feature that covers the extent of the Thomas Fire."
   ]
  },
  {
   "cell_type": "code",
   "execution_count": null,
   "metadata": {},
   "outputs": [],
   "source": [
    "from arcgis.geoanalytics.use_proximity import create_buffers\n",
    "\n",
    "fire_item = burnt_areas.to_features(output_name='ThomasFire_Boundary')\n",
    "\n",
    "fire_layer = fire_item.layers[0]\n",
    "fire_layer.filter = 'st_area_sh > 3000000'\n",
    "\n",
    "fire = create_buffers(lyr, 100, 'Meters', dissolve_option='All', multipart=True, output_name='ThomasFire')"
   ]
  },
  {
   "cell_type": "code",
   "execution_count": 21,
   "metadata": {},
   "outputs": [
    {
     "data": {
      "text/html": [
       "<div class=\"item_container\" style=\"height: auto; overflow: hidden; border: 1px solid #cfcfcf; border-radius: 2px; background: #f6fafa; line-height: 1.21429em; padding: 10px;\">\n",
       "                    <div class=\"item_left\" style=\"width: 210px; float: left;\">\n",
       "                       <a href='https://pythonapi.playground.esri.com/portal/home/item.html?id=7f05c4cdc33b49a0a586960f52169679' target='_blank'>\n",
       "                        <img src='data:image/png;base64,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' width='200' height='133' class=\"itemThumbnail\">\n",
       "                       </a>\n",
       "                    </div>\n",
       "\n",
       "                    <div class=\"item_right\"     style=\"float: none; width: auto; overflow: hidden;\">\n",
       "                        <a href='https://pythonapi.playground.esri.com/portal/home/item.html?id=7f05c4cdc33b49a0a586960f52169679' target='_blank'><b>Thomas Fire</b>\n",
       "                        </a>\n",
       "                        <br/><img src='https://pythonapi.playground.esri.com/portal/home/js/jsapi/esri/css/images/item_type_icons/featureshosted16.png' style=\"vertical-align:middle;\">Feature Layer Collection by rohitgeo\n",
       "                        <br/>Last Modified: February 28, 2018\n",
       "                        <br/>0 comments, 0 views\n",
       "                    </div>\n",
       "                </div>\n",
       "                "
      ],
      "text/plain": [
       "<Item title:\"Thomas Fire\" type:Feature Layer Collection owner:rohitgeo>"
      ]
     },
     "execution_count": 21,
     "metadata": {},
     "output_type": "execute_result"
    }
   ],
   "source": [
    "fire = gis.content.search('Thomas_Fire', 'Feature Layer')[0]\n",
    "fire"
   ]
  },
  {
   "cell_type": "code",
   "execution_count": 22,
   "metadata": {},
   "outputs": [
    {
     "data": {
      "application/vnd.jupyter.widget-view+json": {
       "model_id": "7ac969eb92d04a16931c5dbb96d42561",
       "version_major": 2,
       "version_minor": 0
      },
      "text/html": [
       "<p>Failed to display Jupyter Widget of type <code>MapView</code>.</p>\n",
       "<p>\n",
       "  If you're reading this message in Jupyter Notebook or JupyterLab, it may mean\n",
       "  that the widgets JavaScript is still loading. If this message persists, it\n",
       "  likely means that the widgets JavaScript library is either not installed or\n",
       "  not enabled. See the <a href=\"https://ipywidgets.readthedocs.io/en/stable/user_install.html\">Jupyter\n",
       "  Widgets Documentation</a> for setup instructions.\n",
       "</p>\n",
       "<p>\n",
       "  If you're reading this message in another notebook frontend (for example, a static\n",
       "  rendering on GitHub or <a href=\"https://nbviewer.jupyter.org/\">NBViewer</a>),\n",
       "  it may mean that your frontend doesn't currently support widgets.\n",
       "</p>\n"
      ],
      "text/plain": [
       "MapView(basemaps=['dark-gray', 'dark-gray-vector', 'gray', 'gray-vector', 'hybrid', 'national-geographic', 'oceans', 'osm', 'satellite', 'streets', 'streets-navigation-vector', 'streets-night-vector', 'streets-relief-vector', 'streets-vector', 'terrain', 'topo', 'topo-vector'], center=[34.39152000000007, -119.50831], zoom=10)"
      ]
     },
     "metadata": {},
     "output_type": "display_data"
    }
   ],
   "source": [
    "vectormap = gis.map('Carpinteria, CA', zoomlevel=10)\n",
    "vectormap.basemap = 'dark-gray'\n",
    "vectormap.add_layer(fire)\n",
    "\n",
    "vectormap"
   ]
  },
  {
   "cell_type": "markdown",
   "metadata": {},
   "source": [
    "## Impact Assessment"
   ]
  },
  {
   "cell_type": "markdown",
   "metadata": {
    "heading_collapsed": true
   },
   "source": [
    "### Compute infrastructure and human impact"
   ]
  },
  {
   "cell_type": "code",
   "execution_count": 60,
   "metadata": {
    "hidden": true
   },
   "outputs": [],
   "source": [
    "from arcgis.geoenrichment import enrich\n",
    "from arcgis.features import SpatialDataFrame\n",
    "\n",
    "sdf = SpatialDataFrame.from_layer(fire.layers[0])\n",
    "\n",
    "fire_geometry = sdf.iloc[0].SHAPE\n",
    "sa_filter = geometry.filters.intersects(geometry=fire_geometry, sr=4326)\n",
    "\n",
    "secondary_roads_layer = FeatureLayer(\"https://tigerweb.geo.census.gov/arcgis/rest/services/TIGERweb/Transportation_LargeScale/MapServer/1\")\n",
    "secondary_roads = secondary_roads_layer.query(geometry_filter=sa_filter, out_sr=4326)\n",
    "\n",
    "local_roads_layer = FeatureLayer(\"https://tigerweb.geo.census.gov/arcgis/rest/services/TIGERweb/Transportation_LargeScale/MapServer/2\")\n",
    "local_roads = local_roads_layer.query(geometry_filter=sa_filter, out_sr=4326)\n",
    "\n",
    "def age_pyramid(df):\n",
    "    import warnings\n",
    "    import seaborn as sns\n",
    "    import matplotlib.pyplot as plt\n",
    "\n",
    "    %matplotlib inline\n",
    "    warnings.simplefilter(action='ignore', category=FutureWarning)\n",
    "    pd.options.mode.chained_assignment = None \n",
    "    plt.style.use('ggplot')\n",
    "\n",
    "    df = df[[x for x in impacted_people.columns if 'MALE' in x or 'FEM' in x]]\n",
    "    sf = pd.DataFrame(df.sum())\n",
    "    sf['age'] = sf.index.str.extract('(\\d+)').astype('int64')\n",
    "\n",
    "    f = sf[sf.index.str.startswith('FEM')]\n",
    "    m = sf[sf.index.str.startswith('MALE')]\n",
    "    f = f.sort_values(by='age', ascending=False).set_index('age')\n",
    "    m = m.sort_values(by='age', ascending=False).set_index('age')\n",
    "\n",
    "    popdf = pd.concat([f, m], axis=1)\n",
    "    popdf.columns = ['F', 'M']\n",
    "    popdf['agelabel'] = popdf.index.map(str) + ' - ' + (popdf.index+4).map(str)\n",
    "    popdf.M = -popdf.M\n",
    "    \n",
    "    sns.barplot(x=\"F\", y=\"agelabel\", color=\"#CC6699\", label=\"Female\", data=popdf, edgecolor='none')\n",
    "    sns.barplot(x=\"M\",  y=\"agelabel\", color=\"#008AB8\", label=\"Male\",   data=popdf,  edgecolor='none')\n",
    "    plt.ylabel('Age group')\n",
    "    plt.xlabel('Number of people');\n",
    "    return plt;"
   ]
  },
  {
   "cell_type": "markdown",
   "metadata": {},
   "source": [
    "### Visualize affected roads on map"
   ]
  },
  {
   "cell_type": "code",
   "execution_count": 57,
   "metadata": {
    "scrolled": false
   },
   "outputs": [
    {
     "data": {
      "application/vnd.jupyter.widget-view+json": {
       "model_id": "1a6ea57789914a92b10a06ddb66b0575",
       "version_major": 2,
       "version_minor": 0
      },
      "text/html": [
       "<p>Failed to display Jupyter Widget of type <code>MapView</code>.</p>\n",
       "<p>\n",
       "  If you're reading this message in Jupyter Notebook or JupyterLab, it may mean\n",
       "  that the widgets JavaScript is still loading. If this message persists, it\n",
       "  likely means that the widgets JavaScript library is either not installed or\n",
       "  not enabled. See the <a href=\"https://ipywidgets.readthedocs.io/en/stable/user_install.html\">Jupyter\n",
       "  Widgets Documentation</a> for setup instructions.\n",
       "</p>\n",
       "<p>\n",
       "  If you're reading this message in another notebook frontend (for example, a static\n",
       "  rendering on GitHub or <a href=\"https://nbviewer.jupyter.org/\">NBViewer</a>),\n",
       "  it may mean that your frontend doesn't currently support widgets.\n",
       "</p>\n"
      ],
      "text/plain": [
       "MapView(basemaps=['dark-gray', 'dark-gray-vector', 'gray', 'gray-vector', 'hybrid', 'national-geographic', 'oceans', 'osm', 'satellite', 'streets', 'streets-navigation-vector', 'streets-night-vector', 'streets-relief-vector', 'streets-vector', 'terrain', 'topo', 'topo-vector'], center=[34.39152000000007, -119.50831], zoom=10)"
      ]
     },
     "metadata": {},
     "output_type": "display_data"
    }
   ],
   "source": [
    "impactmap = gis.map('Carpinteria, CA', zoomlevel=10)\n",
    "impactmap.basemap = 'streets'\n",
    "\n",
    "impactmap"
   ]
  },
  {
   "cell_type": "code",
   "execution_count": 58,
   "metadata": {},
   "outputs": [],
   "source": [
    "impactmap.draw([local_roads, secondary_roads])"
   ]
  },
  {
   "cell_type": "markdown",
   "metadata": {},
   "source": [
    "### Age Pyramid of affected population"
   ]
  },
  {
   "cell_type": "code",
   "execution_count": 25,
   "metadata": {},
   "outputs": [
    {
     "data": {
      "image/png": "[encoded data removed]",
      "text/plain": [
       "<matplotlib.figure.Figure at 0x25f08f520f0>"
      ]
     },
     "metadata": {},
     "output_type": "display_data"
    }
   ],
   "source": [
    "impacted_people = enrich(sdf, 'Age')\n",
    "age_pyramid(impacted_people);"
   ]
  },
  {
   "cell_type": "markdown",
   "metadata": {},
   "source": [
    "![](wildfire_banner.jpg)"
   ]
  }
 ],
 "metadata": {
  "anaconda-cloud": {},
  "kernelspec": {
   "display_name": "Python 3",
   "language": "python",
   "name": "python3"
  },
  "language_info": {
   "codemirror_mode": {
    "name": "ipython",
    "version": 3
   },
   "file_extension": ".py",
   "mimetype": "text/x-python",
   "name": "python",
   "nbconvert_exporter": "python",
   "pygments_lexer": "ipython3",
   "version": "3.6.5"
  }
 },
 "nbformat": 4,
 "nbformat_minor": 2
}
